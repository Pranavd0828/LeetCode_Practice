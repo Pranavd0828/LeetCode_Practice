{
 "cells": [
  {
   "cell_type": "code",
   "execution_count": 1,
   "metadata": {},
   "outputs": [],
   "source": [
    "import numpy as np\n",
    "import pandas as pd\n",
    "import math\n",
    "import bisect\n",
    "import random\n",
    "import string\n",
    "import collections\n",
    "from collections import Counter\n",
    "import itertools\n",
    "import matplotlib.pyplot as plt\n",
    "%matplotlib inline  "
   ]
  },
  {
   "cell_type": "markdown",
   "metadata": {},
   "source": [
    "___\n",
    "> Given the array candies and the integer extraCandies, where candies [ i ] represents the number of candies that the ith kid has. For each kid check if there is a way to distribute extraCandies among the kids such that he or she can have the greatest number of candies among them. Notice that multiple kids can have the greatest number of candies."
   ]
  },
  {
   "cell_type": "code",
   "execution_count": 2,
   "metadata": {},
   "outputs": [
    {
     "data": {
      "text/plain": [
       "[True, True, True, True, True, True, True, True, True, True]"
      ]
     },
     "execution_count": 2,
     "metadata": {},
     "output_type": "execute_result"
    }
   ],
   "source": [
    "def kidsWithCandies(candies, extraCandies):\n",
    "    \n",
    "    if len(candies)==0:\n",
    "        return\n",
    "    \n",
    "    max_ = max(candies)\n",
    "    l = []\n",
    "    \n",
    "    for i in range(len(candies)):\n",
    "        candies[i] = candies[i] + extraCandies\n",
    "    \n",
    "    for i in range(len(candies)):\n",
    "        l.append(candies[i] >= max_)\n",
    "    \n",
    "    return l\n",
    "    \n",
    "    \n",
    "\n",
    "kidsWithCandies([2,3,1,4,5,7,1,1,1,2],7)"
   ]
  },
  {
   "cell_type": "markdown",
   "metadata": {},
   "source": [
    "___\n",
    "> Given a valid (IPv4) IP address, return a defanged version of that IP address. A defanged IP address replaces every period \" . \" with \" [ . ] \"."
   ]
  },
  {
   "cell_type": "code",
   "execution_count": 3,
   "metadata": {},
   "outputs": [
    {
     "data": {
      "text/plain": [
       "'255[.]100[.]50[.]0'"
      ]
     },
     "execution_count": 3,
     "metadata": {},
     "output_type": "execute_result"
    }
   ],
   "source": [
    "def defangIPaddr(address):\n",
    "    \n",
    "    return address.replace(\".\", \"[.]\")\n",
    "\n",
    "defangIPaddr(\"255.100.50.0\")"
   ]
  },
  {
   "cell_type": "markdown",
   "metadata": {},
   "source": [
    "___\n",
    "> Given a non-negative integer num, return the number of steps to reduce it to zero. If the current number is even, you have to divide it by 2, otherwise, you have to subtract 1 from it.\n",
    "\n",
    "* Input: num = 14\n",
    "* Output: 6\n",
    "* Explanation: \n",
    "\n",
    "\n",
    "    Step 1) 14 is even; divide by 2 and obtain 7. \n",
    "    Step 2) 7 is odd; subtract 1 and obtain 6.\n",
    "    Step 3) 6 is even; divide by 2 and obtain 3. \n",
    "    Step 4) 3 is odd; subtract 1 and obtain 2. \n",
    "    Step 5) 2 is even; divide by 2 and obtain 1. \n",
    "    Step 6) 1 is odd; subtract 1 and obtain 0."
   ]
  },
  {
   "cell_type": "code",
   "execution_count": 4,
   "metadata": {},
   "outputs": [
    {
     "data": {
      "text/plain": [
       "6"
      ]
     },
     "execution_count": 4,
     "metadata": {},
     "output_type": "execute_result"
    }
   ],
   "source": [
    "def numberOfSteps (num):\n",
    "    \n",
    "    count = 0\n",
    "    \n",
    "    if num == 0:\n",
    "        return count\n",
    "    \n",
    "    while num != 0:\n",
    "        \n",
    "        if num%2 == 0:\n",
    "            num = num/2\n",
    "            count = count + 1\n",
    "            \n",
    "        if num%2 != 0:\n",
    "            num = num - 1\n",
    "            count = count + 1\n",
    "            \n",
    "    return count\n",
    "\n",
    "numberOfSteps(14)\n",
    "            \n",
    "            \n",
    "        "
   ]
  },
  {
   "cell_type": "markdown",
   "metadata": {},
   "source": [
    "___\n",
    "\n",
    "> You're given strings J representing the types of stones that are jewels, and S representing the stones you have.  Each character in S is a type of stone you have.  You want to know how many of the stones you have are also jewels. The letters in J are guaranteed distinct, and all characters in J and S are letters. Letters are case sensitive, so \"a\" is considered a different type of stone from \"A\".\n",
    "\n",
    "* Input: J = \"aA\", S = \"aAAbbbb\"\n",
    "* Output: 3"
   ]
  },
  {
   "cell_type": "code",
   "execution_count": 5,
   "metadata": {},
   "outputs": [
    {
     "data": {
      "text/plain": [
       "3"
      ]
     },
     "execution_count": 5,
     "metadata": {},
     "output_type": "execute_result"
    }
   ],
   "source": [
    "def numJewelsInStones(J, S):\n",
    "    \n",
    "    J_list = list(J)\n",
    "    S_list = list(S)\n",
    "    \n",
    "    count = 0\n",
    "    \n",
    "    for j in range(len(J_list)):\n",
    "        \n",
    "        for s in range(len(S_list)):\n",
    "            \n",
    "            if J_list[j] == S_list[s]:\n",
    "                \n",
    "                count += 1\n",
    "            \n",
    "    return count\n",
    "\n",
    "numJewelsInStones(\"aA\", \"aAAbbbb\")"
   ]
  },
  {
   "cell_type": "markdown",
   "metadata": {},
   "source": [
    "_____\n",
    "\n",
    "> Write an algorithm to determine if a number n is \"happy\".\n",
    "\n",
    "A happy number is a number defined by the following process: Starting with any positive integer, replace the number by the sum of the squares of its digits, and repeat the process until the number equals 1 (where it will stay), or it loops endlessly in a cycle which does not include 1. Those numbers for which this process ends in 1 are happy numbers. \n",
    "\n",
    "Return True if n is a happy number, and False if not.\n",
    "\n",
    "Example:\n",
    "\n",
    "\n",
    "* Input: 19 \n",
    "\n",
    "* Output: true\n",
    "\n",
    "\n",
    "Explanation: \n",
    "    \n",
    "$1^{2} + 9^{2} = 82$\n",
    "    \n",
    "$8^{2} + 2^{2} = 68$\n",
    "    \n",
    "$6^{2} + 8^{2} = 100$\n",
    "    \n",
    "$1^{2} + 0^{2} + 0^{2} = 1$"
   ]
  },
  {
   "cell_type": "code",
   "execution_count": 6,
   "metadata": {},
   "outputs": [
    {
     "data": {
      "text/plain": [
       "False"
      ]
     },
     "execution_count": 6,
     "metadata": {},
     "output_type": "execute_result"
    }
   ],
   "source": [
    "def isHappy(n): \n",
    "    \n",
    "    s = set()\n",
    "        \n",
    "    while n != 1:\n",
    "        number, sum_n = n, 0\n",
    "            \n",
    "        while number:\n",
    "            rem = number % 10\n",
    "            sum_n += (rem * rem)\n",
    "            number //= 10\n",
    "            \n",
    "            \n",
    "        if sum_n not in s:\n",
    "            s.add(sum_n)\n",
    "        else:\n",
    "            return False\n",
    "            \n",
    "    n = sum_n\n",
    " \n",
    "    return True\n",
    "\n",
    "isHappy(21)\n",
    "    \n",
    "    \n",
    "    "
   ]
  },
  {
   "cell_type": "markdown",
   "metadata": {},
   "source": [
    "____"
   ]
  },
  {
   "cell_type": "markdown",
   "metadata": {},
   "source": [
    "> Write a program to check whether a given number is an ugly number. \n",
    "\n",
    "Ugly numbers are positive numbers whose prime factors only include 2, 3, 5.\n",
    "\n"
   ]
  },
  {
   "cell_type": "code",
   "execution_count": 7,
   "metadata": {},
   "outputs": [
    {
     "data": {
      "text/plain": [
       "False"
      ]
     },
     "execution_count": 7,
     "metadata": {},
     "output_type": "execute_result"
    }
   ],
   "source": [
    "def isUgly(num):\n",
    "    \n",
    "    arr = {2,3,5}\n",
    "    \n",
    "    if num <= 0:\n",
    "        return False\n",
    "    \n",
    "    while num > 1:\n",
    "        for n in arr:\n",
    "            if num%n == 0:\n",
    "                num = num//n\n",
    "                break\n",
    "            else:\n",
    "                return False\n",
    "        return True\n",
    "            \n",
    "\n",
    "isUgly(21)\n",
    "    "
   ]
  },
  {
   "cell_type": "markdown",
   "metadata": {},
   "source": [
    "___\n",
    "\n",
    "> Given the array nums, for each nums[ i ] find out how many numbers in the array are smaller than it. That is, for each nums[ i ] you have to count the number of valid j's such that j != i and nums[ j ] < nums[ i ]. Return the answer in an array."
   ]
  },
  {
   "cell_type": "code",
   "execution_count": 8,
   "metadata": {},
   "outputs": [
    {
     "data": {
      "text/plain": [
       "[2, 0, 1, 3]"
      ]
     },
     "execution_count": 8,
     "metadata": {},
     "output_type": "execute_result"
    }
   ],
   "source": [
    "def smallerNumbersThanCurrent(nums):\n",
    "    \n",
    "    if len(nums) == 0:\n",
    "        return\n",
    "    \n",
    "    \n",
    "    l = []\n",
    "    \n",
    "    for i in range(len(nums)):\n",
    "        \n",
    "        count = 0\n",
    "        \n",
    "        for j in range(0, len(nums)):\n",
    "            \n",
    "            if nums[i] > nums[j]:\n",
    "                count += 1\n",
    "            \n",
    "        l.append(count)\n",
    "    \n",
    "    return (l)\n",
    "\n",
    "\n",
    "smallerNumbersThanCurrent([6,1,3,10])"
   ]
  },
  {
   "cell_type": "markdown",
   "metadata": {},
   "source": [
    "____\n",
    "### Important\n",
    ">You are given an integer array nums and you have to return a new counts array. The counts array has the property where counts[ i ] is the number of smaller elements to the right of nums[ i ].\n",
    "\n",
    "#### Example:\n",
    "\n",
    "Input: [ 5, 2, 6, 1 ]\n",
    "\n",
    "Output: [ 2, 1, 1, 0 ]  \n",
    "\n",
    "#### Explanation:\n",
    "\n",
    "To the right of 5 there are 2 smaller elements (2 and 1).\n",
    "\n",
    "To the right of 2 there is only 1 smaller element (1).\n",
    "\n",
    "To the right of 6 there is 1 smaller element (1).\n",
    "\n",
    "To the right of 1 there is 0 smaller element.\n"
   ]
  },
  {
   "cell_type": "code",
   "execution_count": 9,
   "metadata": {},
   "outputs": [],
   "source": [
    "def countSmaller(nums):\n",
    "    \n",
    "    temp = []\n",
    "    \n",
    "    res = [0] * len(nums)\n",
    "    \n",
    "    for i in range(len(nums)-1, -1, -1):\n",
    "    \n",
    "        idx = bisect.bisect_left(temp, nums[i])\n",
    "        \n",
    "        res[i] = idx\n",
    "        \n",
    "        temp.insert(idx, nums[i])\n",
    "\n",
    "    return res"
   ]
  },
  {
   "cell_type": "markdown",
   "metadata": {},
   "source": [
    "___\n",
    "\n",
    "> Given an integer number n, return the difference between the product of its digits and the sum of its digits.\n",
    "\n",
    "    Input: n = 234\n",
    "\n",
    "    Output: 15 \n",
    "\n",
    "Explanation: \n",
    "\n",
    "    Product of digits = 2 * 3 * 4 = 24 \n",
    "\n",
    "    Sum of digits = 2 + 3 + 4 = 9 \n",
    "\n",
    "    Result = 24 - 9 = 15"
   ]
  },
  {
   "cell_type": "code",
   "execution_count": 10,
   "metadata": {},
   "outputs": [
    {
     "data": {
      "text/plain": [
       "21"
      ]
     },
     "execution_count": 10,
     "metadata": {},
     "output_type": "execute_result"
    }
   ],
   "source": [
    "def subtractProductAndSum(n):\n",
    "    \n",
    "    if n <= 9:\n",
    "        return\n",
    "    \n",
    "    product = 1\n",
    "    sum_ = 0\n",
    "    \n",
    "    while n:\n",
    "            \n",
    "        rem = n%10\n",
    "        product = product*rem\n",
    "        sum_ += rem\n",
    "            \n",
    "        n = n//10\n",
    "            \n",
    "    return product - sum_\n",
    "\n",
    "subtractProductAndSum(4421)"
   ]
  },
  {
   "cell_type": "markdown",
   "metadata": {},
   "source": [
    "___\n",
    "\n",
    "> We are given a list nums of integers representing a list compressed with run-length encoding.\n",
    "\n",
    "> Consider each adjacent pair of elements [freq, val] = [ nums[ 2*i ], nums[ 2*i+1 ] ] (with i >= 0).  For each such pair, there are freq elements with value val concatenated in a sublist. Concatenate all the sublists from left to right to generate the decompressed list.\n",
    "\n",
    "#### Return the decompressed list.\n",
    "\n",
    "Input: nums = [ 1, 2, 3, 4 ]\n",
    "\n",
    "Output: [ 2, 4, 4, 4 ]\n",
    "\n",
    "\n",
    "#### Explanation: \n",
    "\n",
    "The first pair [ 1, 2 ] means we have freq = 1 and val = 2 so we generate the array [ 2 ].\n",
    "The second pair [3, 4] means we have freq = 3 and val = 4 so we generate [ 4, 4, 4 ].\n",
    "At the end the concatenation [ 2 ] + [ 4, 4, 4] is [ 2, 4, 4, 4 ].\n",
    "\n",
    "\n",
    "#### Constraints:\n",
    "\n",
    "2 <= nums.length <= 100\n",
    "\n",
    "nums.length % 2 == 0\n",
    "\n",
    "1 <= nums[ i ] <= 100"
   ]
  },
  {
   "cell_type": "code",
   "execution_count": 11,
   "metadata": {},
   "outputs": [
    {
     "data": {
      "text/plain": [
       "[2, 4, 4, 4]"
      ]
     },
     "execution_count": 11,
     "metadata": {},
     "output_type": "execute_result"
    }
   ],
   "source": [
    "def decompressRLElist(nums):\n",
    "    \n",
    "    freq = []\n",
    "    val = []\n",
    "    final = []\n",
    "    \n",
    "    if len(nums)%2 != 0 or len(nums)<2 or len(nums)>100:\n",
    "        return\n",
    "    \n",
    "    for i in range(len(nums)):\n",
    "        if nums[i]<1 or nums[i]>100:\n",
    "            return\n",
    "    \n",
    "    for i in range(0, len(nums), 2):\n",
    "        freq.append(nums[i])\n",
    "        \n",
    "    for i in range(1, len(nums), 2):\n",
    "        val.append(nums[i])\n",
    "        \n",
    "    for i in range(len(freq)):\n",
    "        \n",
    "        while freq[i] != 0:\n",
    "            final.append(val[i])\n",
    "            freq[i] -= 1\n",
    "        \n",
    "    return final\n",
    "\n",
    "\n",
    "decompressRLElist([ 1, 2, 3, 4,])       \n",
    "    \n",
    "        "
   ]
  },
  {
   "cell_type": "markdown",
   "metadata": {},
   "source": [
    "___\n",
    "\n",
    "Given an array nums of integers, return how many of them contain an even number of digits.\n",
    " \n",
    "\n",
    "#### Example:\n",
    "\n",
    "Input: nums = [ 12, 345, 2, 6, 7896 ]\n",
    "\n",
    "Output: 2\n",
    "\n",
    "#### Explanation: \n",
    "\n",
    "12 contains 2 digits (even number of digits). \n",
    "\n",
    "345 contains 3 digits (odd number of digits). \n",
    "\n",
    "2 contains 1 digit (odd number of digits). \n",
    "\n",
    "6 contains 1 digit (odd number of digits). \n",
    "\n",
    "7896 contains 4 digits (even number of digits). \n",
    "\n",
    "Therefore only 12 and 7896 contain an even number of digits.\n",
    "\n",
    "#### Constraints:\n",
    "\n",
    "1 <= nums.length <= 500\n",
    "\n",
    "1 <= nums[ i ] <= $10^5$\n"
   ]
  },
  {
   "cell_type": "code",
   "execution_count": 12,
   "metadata": {},
   "outputs": [
    {
     "data": {
      "text/plain": [
       "39"
      ]
     },
     "execution_count": 12,
     "metadata": {},
     "output_type": "execute_result"
    }
   ],
   "source": [
    "def findNumbers(nums):\n",
    "    \n",
    "    n = 0\n",
    "    count = 0\n",
    "    \n",
    "    if len(nums) == 0 or len(nums) > 500:\n",
    "        return\n",
    "    \n",
    "    for i in range(len(nums)):\n",
    "        nums[i] = str(nums[i])\n",
    "        \n",
    "        if len(nums[i])%2 == 0:\n",
    "            count += 1\n",
    "            \n",
    "    return count\n",
    "\n",
    "findNumbers(list(np.random.randint(1,100000,500)))      "
   ]
  },
  {
   "cell_type": "markdown",
   "metadata": {},
   "source": [
    "___\n",
    "Given two integer arrays startTime and endTime and given an integer queryTime.\n",
    "\n",
    "The ith student started doing their homework at the time startTime[ i ] and finished it at time endTime[ i ].\n",
    "\n",
    "Return the number of students doing their homework at time queryTime. More formally, return the number of students where queryTime lays in the interval [ startTime[ i ], endTime[ i ] ] inclusive.\n",
    "\n",
    " \n",
    "#### Example:\n",
    "\n",
    "Input: startTime = [ 1, 2, 3 ], endTime = [ 3, 2, 7 ], queryTime = 4\n",
    "\n",
    "Output: 1\n",
    "\n",
    "#### Explanation: \n",
    "\n",
    "We have 3 students where:\n",
    "\n",
    "The first student started doing homework at time 1 and finished at time 3 and wasn't doing anything at time 4.\n",
    "\n",
    "The second student started doing homework at time 2 and finished at time 2 and also wasn't doing anything at time 4.\n",
    "\n",
    "The third student started doing homework at time 3 and finished at time 7 and was the only student doing homework at time 4.\n",
    "\n",
    "#### Constraints\n",
    "\n",
    "startTime.length == endTime.length\n",
    "\n",
    "1 <= startTime.length <= 100\n",
    "\n",
    "1 <= startTime[ i ] <= endTime[ i ] <= 1000\n",
    "\n",
    "1 <= queryTime <= 1000\n"
   ]
  },
  {
   "cell_type": "code",
   "execution_count": 13,
   "metadata": {},
   "outputs": [
    {
     "data": {
      "text/plain": [
       "9"
      ]
     },
     "execution_count": 13,
     "metadata": {},
     "output_type": "execute_result"
    }
   ],
   "source": [
    "def busyStudent(startTime, endTime, queryTime):\n",
    "    \n",
    "    if len(startTime) != len(endTime) or len(startTime) == 0 or len(startTime) > 100:\n",
    "        return\n",
    "    \n",
    "    count = 0\n",
    "    \n",
    "    if queryTime == 0 or queryTime>1000:\n",
    "        return\n",
    "    \n",
    "    for i in range(len(startTime)):\n",
    "        \n",
    "        if startTime[i] > endTime[i]:\n",
    "            return\n",
    "        \n",
    "        if queryTime >= startTime[i] and queryTime <= endTime[i]:\n",
    "            count += 1\n",
    "            \n",
    "    return count\n",
    "\n",
    "\n",
    "startTime = [339,241,786,873,724,531,258,115,309,989,207,286,536,492,527,772,891,450,581,251,65,855,\n",
    "             759,795,26,72,673]\n",
    "\n",
    "endTime = [959,416,832,934,942,908,581,197,874,998,579,766,819,504,721,778,926,488,802,493,85,985,\n",
    "           764,901,546,842,768]\n",
    "\n",
    "queryTime = 708\n",
    "\n",
    "busyStudent(startTime,endTime,708)"
   ]
  },
  {
   "cell_type": "markdown",
   "metadata": {},
   "source": [
    "___\n",
    "\n",
    "> Given two arrays of integers nums and index. Your task is to create target array under the following rules:\n",
    "\n",
    "> Initially target array is empty.\n",
    "\n",
    "> From left to right read nums[ i ] and index[ i ], insert at index index[ i ] the value nums[ i ] in target array.\n",
    "\n",
    "> Repeat the previous step until there are no elements to read in nums and index. Return the target array.\n",
    "\n",
    "\n",
    "It is guaranteed that the insertion operations will be valid.\n",
    "\n",
    "#### Example:\n",
    "\n",
    "Input: nums = [ 0,1,2,3,4 ], index = [ 0,1,2,2,1 ]\n",
    "\n",
    "Output: [ 0,4,1,3,2 ]\n",
    "\n",
    "#### Constraints:\n",
    "\n",
    "\n",
    "1 <= nums.length, index.length <= 100\n",
    "\n",
    "nums.length == index.length\n",
    "\n",
    "0 <= nums[ i ] <= 100\n",
    "\n",
    "0 <= index[ i ] <= i\n"
   ]
  },
  {
   "cell_type": "code",
   "execution_count": 14,
   "metadata": {},
   "outputs": [
    {
     "data": {
      "text/plain": [
       "[0, 4, 1, 3, 2]"
      ]
     },
     "execution_count": 14,
     "metadata": {},
     "output_type": "execute_result"
    }
   ],
   "source": [
    "def createTargetArray(nums, index):\n",
    "    \n",
    "    l = []\n",
    "    \n",
    "    if len(nums) != len(index) or len(nums) == 0 or len(nums) > 100:\n",
    "        return\n",
    "    \n",
    "    \n",
    "    for i in range(len(nums)):\n",
    "        if nums[i] < 0 or nums[i] >100 or index[i]>i:\n",
    "            return\n",
    "        \n",
    "    for i in range(len(nums)):\n",
    "        l.insert(index[i], nums[i])\n",
    "    \n",
    "    return l\n",
    "\n",
    "\n",
    "createTargetArray([0,1,2,3,4], [0,1,2,2,1])"
   ]
  },
  {
   "cell_type": "markdown",
   "metadata": {},
   "source": [
    "___\n",
    "\n",
    "> Given a positive integer num consisting only of digits 6 and 9. Return the maximum number you can get by changing at most one digit (6 becomes 9, and 9 becomes 6).\n",
    "\n",
    " \n",
    "\n",
    "#### Example:\n",
    "\n",
    "Input: num = 9669\n",
    "\n",
    "Output: 9969\n",
    "\n",
    "#### Explanation: \n",
    "\n",
    "Changing the first digit results in 6669.\n",
    "\n",
    "Changing the second digit results in 9969.\n",
    "\n",
    "Changing the third digit results in 9699.\n",
    "\n",
    "Changing the fourth digit results in 9666. \n",
    "\n",
    "The maximum number is 9969.\n",
    "\n",
    "#### Constraints\n",
    "\n",
    "1 <= num <= $ 10^4 $\n",
    "\n",
    "num's digits are 6 or 9."
   ]
  },
  {
   "cell_type": "code",
   "execution_count": 15,
   "metadata": {},
   "outputs": [
    {
     "data": {
      "text/plain": [
       "999"
      ]
     },
     "execution_count": 15,
     "metadata": {},
     "output_type": "execute_result"
    }
   ],
   "source": [
    "def maximum69Number(num):\n",
    "    \n",
    "    num = list(map(int, str(num)))\n",
    "    \n",
    "    for i,j in enumerate(num):\n",
    "        \n",
    "        if j == 6:\n",
    "            num[i] = 9\n",
    "            break\n",
    "    \n",
    "    num = list(map(str,num))\n",
    "    \n",
    "    num = \"\".join(num)\n",
    "    return int(num)\n",
    "    \n",
    "\n",
    "maximum69Number(699)"
   ]
  },
  {
   "cell_type": "markdown",
   "metadata": {},
   "source": [
    "___\n",
    "> We define the Perfect Number is a positive integer that is equal to the sum of all its positive divisors except itself.Now, given an integer n, write a function that returns true when it is a perfect number and false when it is not.\n",
    "\n",
    "#### Example:\n",
    "\n",
    "Input: 28\n",
    "\n",
    "Output: True\n",
    "\n",
    "#### Explanation: \n",
    "\n",
    "28 = 1 + 2 + 4 + 7 + 14"
   ]
  },
  {
   "cell_type": "code",
   "execution_count": 16,
   "metadata": {},
   "outputs": [
    {
     "data": {
      "text/plain": [
       "True"
      ]
     },
     "execution_count": 16,
     "metadata": {},
     "output_type": "execute_result"
    }
   ],
   "source": [
    "def perfectNumber(num):\n",
    "    \n",
    "    if num > 10**8:\n",
    "        return\n",
    "    \n",
    "    sum_ = 0\n",
    "    \n",
    "    for i in range(1,num):\n",
    "        if num%i == 0:\n",
    "            sum_ += i\n",
    "            \n",
    "    return sum_ == num\n",
    "    \n",
    "perfectNumber(33550336)\n",
    "        "
   ]
  },
  {
   "cell_type": "markdown",
   "metadata": {},
   "source": [
    "___\n",
    "\n",
    "> Implement int sqrt(int x).\n",
    "\n",
    "> Compute and return the square root of x, where x is guaranteed to be a non-negative integer. Since the return type is an integer, the decimal digits are truncated and only the integer part of the result is returned."
   ]
  },
  {
   "cell_type": "code",
   "execution_count": 17,
   "metadata": {},
   "outputs": [
    {
     "data": {
      "text/plain": [
       "12"
      ]
     },
     "execution_count": 17,
     "metadata": {},
     "output_type": "execute_result"
    }
   ],
   "source": [
    "# The following algorithm is referred to as Newton's algorithm\n",
    "\n",
    "def mySqrt(x):\n",
    "    \n",
    "    rem = x+1\n",
    "    \n",
    "    while True:\n",
    "        \n",
    "        old_rem = int(rem)\n",
    "        \n",
    "        rem = (rem + x / rem) / 2\n",
    "        \n",
    "        if old_rem == int(rem):\n",
    "            return int(old_rem)\n",
    "\n",
    "mySqrt(144)"
   ]
  },
  {
   "cell_type": "markdown",
   "metadata": {},
   "source": [
    "___\n",
    "> Given an array arr, replace every element in that array with the greatest element among the elements to its right, and replace the last element with -1. After doing so, return the array.\n",
    "\n",
    "#### Example:\n",
    "\n",
    "Input: arr =$ [ 17, 18, 5, 4, 6, 1 ]$\n",
    "\n",
    "Output: $[ 18, 6, 6, 6, 1, -1 ]$\n",
    " \n",
    "\n",
    "#### Constraints:\n",
    "\n",
    "$ 1 <= arr.length <= 10^4$\n",
    "\n",
    "$1 <= arr[i] <= 10^5 $\n"
   ]
  },
  {
   "cell_type": "code",
   "execution_count": 18,
   "metadata": {},
   "outputs": [
    {
     "data": {
      "text/plain": [
       "[18, 6, 6, 6, 1, -1]"
      ]
     },
     "execution_count": 18,
     "metadata": {},
     "output_type": "execute_result"
    }
   ],
   "source": [
    "def replaceElements(arr):\n",
    "    \n",
    "    m = -1\n",
    "    \n",
    "    for i in range(len(arr) - 1, -1, -1):\n",
    "        arr[i], m = m, max(m, arr[i])\n",
    "        \n",
    "    return arr\n",
    "\n",
    "\n",
    "replaceElements([17, 18, 5, 4, 6, 1])"
   ]
  },
  {
   "cell_type": "markdown",
   "metadata": {},
   "source": [
    "___\n",
    "> Given an array of integers that is already sorted in ascending order, find two numbers such that they add up to a specific target number. The function twoSum should return indices of the two numbers such that they add up to the target, where index1 must be less than index2.\n",
    "\n",
    "#### Note:\n",
    "\n",
    "* Your returned answers (both index1 and index2) are not zero-based.\n",
    "\n",
    "* You may assume that each input would have exactly one solution and you may not use the same element twice.\n",
    "\n",
    "#### Example:\n",
    "\n",
    "Input: numbers = [ 2, 7, 11, 15 ], target = 9\n",
    "\n",
    "Output: [ 1, 2 ]\n",
    "\n",
    "#### Explanation: \n",
    "\n",
    "The sum of 2 and 7 is 9. Therefore index_1 = 1, index_2 = 2."
   ]
  },
  {
   "cell_type": "code",
   "execution_count": 19,
   "metadata": {},
   "outputs": [
    {
     "data": {
      "text/plain": [
       "[1, 3]"
      ]
     },
     "execution_count": 19,
     "metadata": {},
     "output_type": "execute_result"
    }
   ],
   "source": [
    " def twoSum(numbers, target):\n",
    "        \n",
    "        l, r = 0, len(numbers)-1\n",
    "        \n",
    "        while l < r:\n",
    "            s = numbers[l] + numbers[r]\n",
    "            \n",
    "            if s == target:\n",
    "                \n",
    "                return [l+1, r+1]\n",
    "\n",
    "            elif s < target:\n",
    "                \n",
    "                l += 1\n",
    "\n",
    "            else:\n",
    "                \n",
    "                r -= 1\n",
    "    \n",
    "twoSum([2,3,4], 6)"
   ]
  },
  {
   "cell_type": "markdown",
   "metadata": {},
   "source": [
    "___\n",
    "> Given an integer n, return any array containing n unique integers such that they add up to 0.\n",
    "\n",
    " \n",
    "\n",
    "#### Example:\n",
    "\n",
    "Input: n = 5\n",
    "\n",
    "Output: [ -7,-1,1,3,4 ]\n",
    "\n",
    "Explanation: These arrays also are accepted [ -5, -1, 1, 2, 3 ] , [ -3, -1, 2, -2, 4 ].\n",
    "\n",
    "#### Constraints:\n",
    "\n",
    "$1 <= n <= 1000$\n"
   ]
  },
  {
   "cell_type": "code",
   "execution_count": 20,
   "metadata": {},
   "outputs": [
    {
     "data": {
      "text/plain": [
       "[-7, -6, -5, -4, -3, -2, -1, 0, 1, 2, 3, 4, 5, 6, 7]"
      ]
     },
     "execution_count": 20,
     "metadata": {},
     "output_type": "execute_result"
    }
   ],
   "source": [
    "def sumZero(n):\n",
    "    \n",
    "    l = []\n",
    "    \n",
    "    if n <= 0:\n",
    "        return\n",
    "    \n",
    "    if n%2 == 0:\n",
    "        \n",
    "        for i in range((-n//2),(n//2)+1):\n",
    "            l.append(i)\n",
    "            \n",
    "        l.remove(0)\n",
    "        \n",
    "    else:\n",
    "        \n",
    "        for i in range((-n//2)+1,(n//2)+1):\n",
    "            l.append(i)\n",
    "        \n",
    "        \n",
    "    return l\n",
    "\n",
    "sumZero(15)"
   ]
  },
  {
   "cell_type": "markdown",
   "metadata": {},
   "source": [
    "___\n",
    "> Given a $m * n$ matrix grid which is sorted in non-increasing order both row-wise and column-wise. Return the number of negative numbers in grid.\n",
    "\n",
    "#### Example:\n",
    "\n",
    "Input: grid = $[$ [ 4, 3, 2, -1 ], [ 3, 2, 1, -1 ], [ 1, 1, -1, -2 ], [ -1, -1, -2, -3 ] $]$\n",
    "\n",
    "Output: 8\n",
    "\n",
    "#### Explanation: \n",
    "\n",
    "There are 8 negatives number in the matrix.\n",
    "\n",
    "#### Constraints:\n",
    "\n",
    "$m == grid.length$\n",
    "\n",
    "$n == grid[ i ].length$\n",
    "\n",
    "$1 <= m, n <= 100$\n",
    "\n",
    "$-100 <= grid[ i ][ j ] <= 100$\n"
   ]
  },
  {
   "cell_type": "code",
   "execution_count": 21,
   "metadata": {},
   "outputs": [
    {
     "data": {
      "text/plain": [
       "8"
      ]
     },
     "execution_count": 21,
     "metadata": {},
     "output_type": "execute_result"
    }
   ],
   "source": [
    "def countNegatives(grid):\n",
    "    \n",
    "    count = 0\n",
    "    \n",
    "    for i in range(len(grid)):\n",
    "        if len(grid) < 1 or len(grid) > 100:\n",
    "            return\n",
    "        \n",
    "    for i in range(len(grid)):\n",
    "        \n",
    "        for j in range(len(grid[i])):\n",
    "            \n",
    "            if grid[i][j] < -100 or grid[i][j] > 100:\n",
    "                return\n",
    "\n",
    "    for i in range(len(grid)):\n",
    "        \n",
    "        for j in range(len(grid[i])):\n",
    "            \n",
    "            if grid[i][j] < 0:\n",
    "                count += 1\n",
    "                \n",
    "    return count\n",
    "\n",
    "\n",
    "l =  [[5,1,0],[-5,-5,-5]]\n",
    "l = [[4,3,2,-1],[3,2,1,-1],[1,1,-1,-2],[-1,-1,-2,-3]]\n",
    "\n",
    "countNegatives(l)"
   ]
  },
  {
   "cell_type": "markdown",
   "metadata": {},
   "source": [
    "___\n",
    ">Given n and m which are the dimensions of a matrix initialized by zeros and given an array indices where indices[ i ] = [ ri, ci ]. For each pair of [ ri, ci ] you have to increment all cells in row ri and column ci by 1.\n",
    "\n",
    "Return the number of cells with odd values in the matrix after applying the increment to all indices.\n",
    "\n",
    " \n",
    "\n",
    "#### Example:\n",
    "\n",
    "\n",
    "Input: \n",
    "\n",
    "n = 2, m = 3, \n",
    "\n",
    "indices = [ [ 0, 1 ], [ 1, 1] ]\n",
    "\n",
    "Output: 6\n",
    "\n",
    "#### Explanation: \n",
    "\n",
    "\n",
    "Initial matrix = [ [ 0, 0, 0 ], [ 0, 0, 0 ] ].\n",
    "\n",
    "After applying first increment it becomes [ [ 1, 2, 1 ], [ 0, 1, 0 ] ].\n",
    "\n",
    "The final matrix will be [ [ 1, 3, 1 ], [ 1, 3, 1 ] ] which contains 6 odd numbers.\n",
    "\n",
    "#### Constraints:\n",
    "\n",
    "$1 <= n <= 50$\n",
    "\n",
    "$1 <= m <= 50$\n",
    "\n",
    "$1 <= indices.length <= 100$\n",
    "\n",
    "$0 <= indices[i][0] < n$\n",
    "\n",
    "$0 <= indices[i][1] < m$"
   ]
  },
  {
   "cell_type": "code",
   "execution_count": 22,
   "metadata": {},
   "outputs": [
    {
     "name": "stdout",
     "output_type": "stream",
     "text": [
      "[[1, 3, 1], [1, 3, 1]]\n"
     ]
    },
    {
     "data": {
      "text/plain": [
       "6"
      ]
     },
     "execution_count": 22,
     "metadata": {},
     "output_type": "execute_result"
    }
   ],
   "source": [
    "def oddCells(n, m, indices):\n",
    "    \n",
    "    result = [[0 for i in range(m)] for j in range(n)]\n",
    "    \n",
    "    for x in indices:\n",
    "        \n",
    "        row = x[0]\n",
    "        column = x[1]\n",
    "        \n",
    "        for i in range(m):\n",
    "            \n",
    "            result[row][i] += 1\n",
    "        \n",
    "        for j in range(n):\n",
    "            \n",
    "            result[j][column] += 1\n",
    "    \n",
    "    print(result)\n",
    "    \n",
    "    \n",
    "    count = 0\n",
    "    \n",
    "    for i in range(n):\n",
    "        \n",
    "        for j in range(m):\n",
    "            \n",
    "            if result[i][j]%2 != 0:\n",
    "                \n",
    "                count += 1\n",
    "               \n",
    "            \n",
    "    return count\n",
    "\n",
    "\n",
    "ind = [[0, 1], [1, 1]]\n",
    "\n",
    "oddCells(2,3, ind)"
   ]
  },
  {
   "cell_type": "code",
   "execution_count": 23,
   "metadata": {},
   "outputs": [
    {
     "data": {
      "text/plain": [
       "[1, 2, 3, 4, 5, 6, 7, 8, 9, 11, 12, 15, 22]"
      ]
     },
     "execution_count": 23,
     "metadata": {},
     "output_type": "execute_result"
    }
   ],
   "source": [
    "def selfDividingNumbers(left, right):\n",
    "    \n",
    "    def isSafe(n):\n",
    "        \n",
    "        t = str(n)\n",
    "        \n",
    "        l = [int(char) for char in t]\n",
    "        \n",
    "        for i in l:\n",
    "            if i == 0:\n",
    "                return False\n",
    "            \n",
    "            if (n%i!=0):\n",
    "                return False\n",
    "        \n",
    "        return True\n",
    "        \n",
    "    l = []\n",
    "        \n",
    "    for j in range(left,right+1):\n",
    "        \n",
    "        if isSafe(j):\n",
    "    \n",
    "            l.append(j)\n",
    "        \n",
    "    return l\n",
    "    \n",
    "\n",
    "selfDividingNumbers(1,22)"
   ]
  },
  {
   "cell_type": "code",
   "execution_count": 24,
   "metadata": {},
   "outputs": [
    {
     "data": {
      "text/plain": [
       "7"
      ]
     },
     "execution_count": 24,
     "metadata": {},
     "output_type": "execute_result"
    }
   ],
   "source": [
    "def hammingDistance(x,y):\n",
    "    \n",
    "    if x < 0 or y < 0 or x >= 2**(31) or y > 2**(31):\n",
    "        return\n",
    "    \n",
    "    bin_x = []\n",
    "    bin_y = []\n",
    "    count = 0\n",
    "    \n",
    "    x_b = str(bin(x)).replace(\"0b\",\"\")\n",
    "    y_b = str(bin(y)).replace(\"0b\",\"\")\n",
    "    \n",
    "    if len(x_b) != len(y_b):\n",
    "        \n",
    "        if len(x_b) > len(y_b):\n",
    "            \n",
    "            while len(x_b) != len(y_b):\n",
    "                y_b = \"0\" + y_b\n",
    "        \n",
    "        else:\n",
    "            \n",
    "            while len(x_b) != len(y_b):\n",
    "                x_b = \"0\" + x_b\n",
    "                \n",
    "    for i in range(len(x_b)):\n",
    "        if x_b[i] != y_b[i]:\n",
    "            count += 1\n",
    "            \n",
    "    \n",
    "\n",
    "    return count\n",
    "\n",
    "hammingDistance(30,229)\n",
    "    "
   ]
  },
  {
   "cell_type": "code",
   "execution_count": 25,
   "metadata": {},
   "outputs": [
    {
     "data": {
      "text/plain": [
       "[2, 3, 5, 7, 11, 13, 17, 19, 23, 29, 31, 37, 41, 43, 47]"
      ]
     },
     "execution_count": 25,
     "metadata": {},
     "output_type": "execute_result"
    }
   ],
   "source": [
    "def countPrimes(n):\n",
    "    \n",
    "    if n == 0:\n",
    "        return 0\n",
    "    \n",
    "    l = [True for i in range(n + 1)]\n",
    " \n",
    "    prime=[]\n",
    "    p = 2\n",
    "    while (p * p <= n):\n",
    "        if (l[p] == True):\n",
    "            # Update all multiples of p \n",
    "            for i in range(p * 2, n + 1, p):\n",
    "                l[i] = False\n",
    "                \n",
    "        p += 1\n",
    "     \n",
    "    l[0],l[1]=False,False\n",
    "\n",
    "    for j in range(len(l)):\n",
    "        if l[j]==True:\n",
    "            prime.append(j)\n",
    "    \n",
    "    return prime\n",
    "\n",
    "countPrimes(50)"
   ]
  },
  {
   "cell_type": "code",
   "execution_count": 26,
   "metadata": {},
   "outputs": [
    {
     "data": {
      "text/plain": [
       "True"
      ]
     },
     "execution_count": 26,
     "metadata": {},
     "output_type": "execute_result"
    }
   ],
   "source": [
    "def judgeSquareSum(c):\n",
    "    \n",
    "    if c == 0:\n",
    "        return False\n",
    "    \n",
    "    result = []\n",
    "    \n",
    "    for i in range(0, c//2+1):\n",
    "        \n",
    "        for j in range(0, c//2+1):\n",
    "            \n",
    "            if (i**2) + (j**2) == c:\n",
    "                \n",
    "                result.append(i)\n",
    "                result.append(j)\n",
    "                \n",
    "            else:\n",
    "                pass\n",
    "            \n",
    "    return result!=[]\n",
    "\n",
    "judgeSquareSum(50)"
   ]
  },
  {
   "cell_type": "code",
   "execution_count": 27,
   "metadata": {},
   "outputs": [
    {
     "data": {
      "text/plain": [
       "'ZZ'"
      ]
     },
     "execution_count": 27,
     "metadata": {},
     "output_type": "execute_result"
    }
   ],
   "source": [
    "def convertToTitle(n):\n",
    "    \n",
    "    l = []\n",
    "        \n",
    "    while n:\n",
    "        \n",
    "        x = chr((n-1)%26 + 65)\n",
    "        \n",
    "        l.append(x)    \n",
    "        \n",
    "        n = (n-1)//26\n",
    "        \n",
    "    return \"\".join(reversed(l))\n",
    "\n",
    "convertToTitle(702)"
   ]
  },
  {
   "cell_type": "code",
   "execution_count": 28,
   "metadata": {},
   "outputs": [
    {
     "data": {
      "text/plain": [
       "5"
      ]
     },
     "execution_count": 28,
     "metadata": {},
     "output_type": "execute_result"
    }
   ],
   "source": [
    "def findUnsortedSubarray(nums):\n",
    "    \n",
    "    x = sorted(nums)\n",
    "\n",
    "    index = []\n",
    "    \n",
    "    for i in range(len(nums)):\n",
    "        \n",
    "        if nums[i]!=x[i]:\n",
    "            index.append(i)    \n",
    "\n",
    "    if len(index)==0:\n",
    "        return 0\n",
    "    \n",
    "    else:\n",
    "        return (index[-1]-index[0]+1)\n",
    "\n",
    "\n",
    "findUnsortedSubarray([2, 6, 4, 8, 10, 9, 15])"
   ]
  },
  {
   "cell_type": "markdown",
   "metadata": {},
   "source": [
    "Given the array of integers nums, you will choose two different indices i and j of that array. Return the maximum value of (nums[ i ] - 1) * (nums [ j ] -1 )."
   ]
  },
  {
   "cell_type": "code",
   "execution_count": 29,
   "metadata": {},
   "outputs": [
    {
     "data": {
      "text/plain": [
       "16"
      ]
     },
     "execution_count": 29,
     "metadata": {},
     "output_type": "execute_result"
    }
   ],
   "source": [
    "def maxProduct(nums):\n",
    "    \n",
    "    result = []\n",
    "    \n",
    "    \n",
    "    if len(nums) < 2  or len(nums) > 500:\n",
    "        return\n",
    "    \n",
    "    \n",
    "    for i in range(len(nums)):\n",
    "        if nums[i] < 1 or nums[i] > 1000:\n",
    "            return\n",
    "        \n",
    "    \n",
    "    \n",
    "    for i in range(len(nums)):\n",
    "        \n",
    "        for j in range(i+1, len(nums)): \n",
    "            \n",
    "            x = (nums[i]-1)*(nums[j]-1)\n",
    "            result.append(x)\n",
    "            \n",
    "    return max(result)\n",
    "\n",
    "maxProduct([1,5,4,5])"
   ]
  },
  {
   "cell_type": "code",
   "execution_count": 30,
   "metadata": {},
   "outputs": [
    {
     "data": {
      "text/plain": [
       "'cc'"
      ]
     },
     "execution_count": 30,
     "metadata": {},
     "output_type": "execute_result"
    }
   ],
   "source": [
    "random.choice(string.ascii_letters[:26])*2"
   ]
  },
  {
   "cell_type": "code",
   "execution_count": 31,
   "metadata": {},
   "outputs": [
    {
     "data": {
      "text/plain": [
       "'abcdefghijklmnopqrstuvwxyzabcdefghijklmnopqrstuvwxyz'"
      ]
     },
     "execution_count": 31,
     "metadata": {},
     "output_type": "execute_result"
    }
   ],
   "source": [
    "string.ascii_letters[:26]*2"
   ]
  },
  {
   "cell_type": "code",
   "execution_count": 32,
   "metadata": {},
   "outputs": [
    {
     "data": {
      "text/plain": [
       "'hhhi'"
      ]
     },
     "execution_count": 32,
     "metadata": {},
     "output_type": "execute_result"
    }
   ],
   "source": [
    "def generateTheString(n):\n",
    "    \n",
    "    x = random.choice(string.ascii_letters[0:8])\n",
    "    y = random.choice(string.ascii_letters[8:16])\n",
    "    z = random.choice(string.ascii_letters[16:26])\n",
    "    \n",
    "    if n%2 == 0:\n",
    "        \n",
    "        l = n-1\n",
    "        r = 1\n",
    "        m = 0\n",
    "        RandStr = l*x + r*y + m*z\n",
    "        \n",
    "    else:\n",
    "        RandStr = n*random.choice(string.ascii_letters[:26])\n",
    "    \n",
    "    return RandStr\n",
    "\n",
    "generateTheString(4)"
   ]
  },
  {
   "cell_type": "markdown",
   "metadata": {},
   "source": [
    "Runtime: 28 ms, faster than 73.69% of Python3 online submissions\n",
    "\n",
    "Memory Usage: 13.8 MB, less than 100.00% of Python3 online submissions"
   ]
  },
  {
   "cell_type": "code",
   "execution_count": 33,
   "metadata": {},
   "outputs": [
    {
     "data": {
      "text/plain": [
       "[[1, 1, 0, 0], [0, 1, 1, 0], [0, 0, 0, 1], [1, 0, 1, 0]]"
      ]
     },
     "execution_count": 33,
     "metadata": {},
     "output_type": "execute_result"
    }
   ],
   "source": [
    "def flipAndInvertImage(A):\n",
    "\n",
    "    for i in range(len(A)):\n",
    "        if len(A) != len(A[i]) and len(A) < 1 or len(A) > 20:\n",
    "            return\n",
    "    \n",
    "    for i in range(len(A)):\n",
    "        for j in range(len(A[i])):\n",
    "            if A[i][j] < 0 or A[i][j] > 1:\n",
    "                return\n",
    "    \n",
    "    \n",
    "    for i in range(len(A)):\n",
    "        A[i][:] = A[i][::-1]\n",
    "        \n",
    "    for i in range(len(A)):\n",
    "        for j in range(len(A[i])):\n",
    "            \n",
    "            if A[i][j] == 0:\n",
    "                A[i][j] = 1\n",
    "                \n",
    "            else:\n",
    "                A[i][j] = 0\n",
    "                \n",
    "    return A\n",
    "\n",
    "\n",
    "flipAndInvertImage([[1,1,0,0],[1,0,0,1],[0,1,1,1],[1,0,1,0]])\n"
   ]
  },
  {
   "cell_type": "code",
   "execution_count": 34,
   "metadata": {},
   "outputs": [
    {
     "data": {
      "text/plain": [
       "True"
      ]
     },
     "execution_count": 34,
     "metadata": {},
     "output_type": "execute_result"
    }
   ],
   "source": [
    "def checkStraightLine(coordinates):\n",
    "    \n",
    "    x_diff = coordinates[1][0] - coordinates[0][0] \n",
    "    y_diff = coordinates[1][1] - coordinates[0][1]\n",
    "    \n",
    "    for i in range(len(coordinates)):\n",
    "        \n",
    "        y2_y1 = coordinates[i][0] - coordinates[1][0]\n",
    "        x2_x1 = coordinates[i][1] - coordinates[1][1]\n",
    "        \n",
    "        if y_diff*(y2_y1) != x_diff*(x2_x1):\n",
    "            return False\n",
    "        \n",
    "    return True\n",
    "    \n",
    "checkStraightLine([[1,2],[2,3],[3,4],[4,5],[5,6],[6,7]])"
   ]
  },
  {
   "cell_type": "code",
   "execution_count": 35,
   "metadata": {},
   "outputs": [
    {
     "data": {
      "text/plain": [
       "3"
      ]
     },
     "execution_count": 35,
     "metadata": {},
     "output_type": "execute_result"
    }
   ],
   "source": [
    "def findNthDigit(n):\n",
    "    \n",
    "    n -= 1\n",
    "        \n",
    "    for digits in range(1, 11):\n",
    "            \n",
    "        first = 10**(digits - 1)\n",
    "            \n",
    "        if n < 9 * first * digits:\n",
    "            return int(str(first + n/digits)[n%digits])\n",
    "            \n",
    "        n -= 9 * first * digits\n",
    "    \n",
    "    \n",
    "findNthDigit(3)  "
   ]
  },
  {
   "cell_type": "code",
   "execution_count": 36,
   "metadata": {},
   "outputs": [
    {
     "data": {
      "text/plain": [
       "[999999, 1]"
      ]
     },
     "execution_count": 36,
     "metadata": {},
     "output_type": "execute_result"
    }
   ],
   "source": [
    "def getNoZeroIntegers(n):\n",
    "    \n",
    "    result = []\n",
    "    \n",
    "    for i in range(n):\n",
    "        \n",
    "        if '0' in str(i) or '0' in str(n-i):\n",
    "            pass\n",
    "        else:\n",
    "            a = i\n",
    "            b = n-i\n",
    "            \n",
    "    result.append(a)\n",
    "    result.append(b)\n",
    "            \n",
    "    return result\n",
    "\n",
    "getNoZeroIntegers(1000000)"
   ]
  },
  {
   "cell_type": "code",
   "execution_count": 37,
   "metadata": {},
   "outputs": [
    {
     "data": {
      "text/plain": [
       "[2, 3, 4, 5]"
      ]
     },
     "execution_count": 37,
     "metadata": {},
     "output_type": "execute_result"
    }
   ],
   "source": [
    "l = [1,1,1,1,2,3,4,5]\n",
    "for i in l:\n",
    "    l.remove(1)\n",
    "    \n",
    "l"
   ]
  },
  {
   "cell_type": "code",
   "execution_count": 38,
   "metadata": {},
   "outputs": [
    {
     "data": {
      "text/plain": [
       "5"
      ]
     },
     "execution_count": 38,
     "metadata": {},
     "output_type": "execute_result"
    }
   ],
   "source": [
    "nums = [0,0,1,1,1,2,2,3,3,4]\n",
    "x = set(nums)\n",
    "len(x)"
   ]
  },
  {
   "cell_type": "code",
   "execution_count": 39,
   "metadata": {},
   "outputs": [
    {
     "data": {
      "text/plain": [
       "Counter({0: 2, 1: 3, 2: 2, 3: 2, 4: 1})"
      ]
     },
     "execution_count": 39,
     "metadata": {},
     "output_type": "execute_result"
    }
   ],
   "source": [
    "l = [0,0,1,1,1,2,2,3,3,4]\n",
    "x = Counter(l)\n",
    "x"
   ]
  },
  {
   "cell_type": "code",
   "execution_count": 40,
   "metadata": {},
   "outputs": [
    {
     "name": "stdout",
     "output_type": "stream",
     "text": [
      "4\n"
     ]
    }
   ],
   "source": [
    "for i in (x):\n",
    "    if x[i] == 1:\n",
    "        print(i)"
   ]
  },
  {
   "cell_type": "code",
   "execution_count": 41,
   "metadata": {},
   "outputs": [
    {
     "data": {
      "text/plain": [
       "dict_values([2, 3, 2, 2, 1])"
      ]
     },
     "execution_count": 41,
     "metadata": {},
     "output_type": "execute_result"
    }
   ],
   "source": [
    "x.values()"
   ]
  },
  {
   "cell_type": "code",
   "execution_count": 42,
   "metadata": {},
   "outputs": [
    {
     "data": {
      "text/plain": [
       "[0, 1, 2, 3, 4]"
      ]
     },
     "execution_count": 42,
     "metadata": {},
     "output_type": "execute_result"
    }
   ],
   "source": [
    "list(x)"
   ]
  },
  {
   "cell_type": "code",
   "execution_count": 43,
   "metadata": {},
   "outputs": [
    {
     "name": "stdout",
     "output_type": "stream",
     "text": [
      "0\n",
      "1\n",
      "2\n",
      "3\n",
      "4\n"
     ]
    }
   ],
   "source": [
    "for i in x:\n",
    "    print(i)"
   ]
  },
  {
   "cell_type": "raw",
   "metadata": {},
   "source": [
    "There are 2N people a company is planning to interview. The cost of flying the i-th person to city A is costs[i][0], and the cost of flying the i-th person to city B is costs[i][1].\n",
    "\n",
    "Return the minimum cost to fly every person to a city such that exactly N people arrive in each city.\n",
    "\n",
    " \n",
    "\n",
    "Example 1:\n",
    "\n",
    "Input: [[10,20],[30,200],[400,50],[30,20]]\n",
    "Output: 110\n",
    "Explanation: \n",
    "The first person goes to city A for a cost of 10.\n",
    "The second person goes to city A for a cost of 30.\n",
    "The third person goes to city B for a cost of 50.\n",
    "The fourth person goes to city B for a cost of 20.\n",
    "\n",
    "The total minimum cost is 10 + 30 + 50 + 20 = 110 to have half the people interviewing in each city.\n",
    "\n",
    "\n",
    "Note:\n",
    "\n",
    "1 <= costs.length <= 100\n",
    "It is guaranteed that costs.length is even.\n",
    "1 <= costs[i][0], costs[i][1] <= 1000"
   ]
  },
  {
   "cell_type": "code",
   "execution_count": 44,
   "metadata": {},
   "outputs": [
    {
     "data": {
      "text/plain": [
       "[259, 54, 667, 139, 118, 469]"
      ]
     },
     "execution_count": 44,
     "metadata": {},
     "output_type": "execute_result"
    }
   ],
   "source": [
    "def twoCitySchedCost(costs):\n",
    "    \n",
    "    min_cost = []\n",
    "    \n",
    "    for i in range(len(costs)):\n",
    "        min_cost.append(min(costs[i]))\n",
    "        \n",
    "        \n",
    "    return (min_cost)\n",
    "\n",
    "twoCitySchedCost([[259,770],[448,54],[926,667],[184,139],[840,118],[577,469]])"
   ]
  },
  {
   "cell_type": "code",
   "execution_count": 45,
   "metadata": {},
   "outputs": [
    {
     "name": "stdout",
     "output_type": "stream",
     "text": [
      "[[10, 20], [30, 200], [400, 50], [30, 20]]\n"
     ]
    }
   ],
   "source": [
    "print([[10,20],[30,200],[400,50],[30,20]])"
   ]
  },
  {
   "cell_type": "code",
   "execution_count": 46,
   "metadata": {},
   "outputs": [
    {
     "data": {
      "text/plain": [
       "8"
      ]
     },
     "execution_count": 46,
     "metadata": {},
     "output_type": "execute_result"
    }
   ],
   "source": [
    "def missingNumber(nums):\n",
    "    \n",
    "    x = max(nums)\n",
    "    \n",
    "    l = list(np.arange(0, x+1))\n",
    "    sorted(nums)\n",
    "    \n",
    "    for i in l:\n",
    "        if i not in nums:\n",
    "            return i\n",
    "\n",
    "missingNumber([9,6,4,2,3,5,7,0,1])"
   ]
  },
  {
   "cell_type": "code",
   "execution_count": 47,
   "metadata": {},
   "outputs": [
    {
     "data": {
      "text/plain": [
       "8"
      ]
     },
     "execution_count": 47,
     "metadata": {},
     "output_type": "execute_result"
    }
   ],
   "source": [
    "l = [9,6,4,2,3,5,7,0,1]\n",
    "sum(range(len(l)+1))-sum(l)"
   ]
  },
  {
   "cell_type": "code",
   "execution_count": 48,
   "metadata": {},
   "outputs": [
    {
     "data": {
      "text/plain": [
       "2.0"
      ]
     },
     "execution_count": 48,
     "metadata": {},
     "output_type": "execute_result"
    }
   ],
   "source": [
    "def largestTriangleArea(points):\n",
    "    \n",
    "    coordinate_combinations = itertools.combinations(points, 3)\n",
    "    \n",
    "    result = 0\n",
    "    \n",
    "    for p, q, r in coordinate_combinations:\n",
    "        \n",
    "        triangle_area = 0.5 * ((p[0]*q[1]+q[0]*r[1]+r[0]*p[1])-(p[1]*q[0]+q[1]*r[0]+r[1]*p[0]))\n",
    "        triangle_area = abs(triangle_area)\n",
    "        \n",
    "        result = max(triangle_area, result)\n",
    "        \n",
    "    return result\n",
    "\n",
    "\n",
    "largestTriangleArea([[0,0],[0,1],[1,0],[0,2],[2,0]])"
   ]
  },
  {
   "cell_type": "code",
   "execution_count": 49,
   "metadata": {},
   "outputs": [],
   "source": [
    "l = [[10,20],[30,200],[400,50],[30,20]]\n",
    "\n",
    "comb = itertools.combinations(l, 3)"
   ]
  },
  {
   "cell_type": "code",
   "execution_count": 50,
   "metadata": {},
   "outputs": [
    {
     "data": {
      "text/plain": [
       "8"
      ]
     },
     "execution_count": 50,
     "metadata": {},
     "output_type": "execute_result"
    }
   ],
   "source": [
    "def largestPerimeter(A):\n",
    "    \n",
    "    A.sort()\n",
    "    \n",
    "    a, b, c = A.pop(), A.pop(), A.pop()\n",
    "    \n",
    "    while b + c <= a:\n",
    "        \n",
    "        if not A:\n",
    "            return 0\n",
    "        \n",
    "        a, b, c = b, c, A.pop()\n",
    "\n",
    "    return a + b + c\n",
    "\n",
    "largestPerimeter([3,6,2,3])"
   ]
  },
  {
   "cell_type": "code",
   "execution_count": 51,
   "metadata": {},
   "outputs": [
    {
     "data": {
      "text/plain": [
       "(4, 2, 6)"
      ]
     },
     "execution_count": 51,
     "metadata": {},
     "output_type": "execute_result"
    }
   ],
   "source": [
    "l = [3,6,2,4]\n",
    "a = l.pop()\n",
    "b = l.pop()\n",
    "c = l.pop()\n",
    "\n",
    "a,b,c\n"
   ]
  },
  {
   "cell_type": "code",
   "execution_count": 52,
   "metadata": {},
   "outputs": [
    {
     "data": {
      "text/plain": [
       "[2, 4, 3, 1]"
      ]
     },
     "execution_count": 52,
     "metadata": {},
     "output_type": "execute_result"
    }
   ],
   "source": [
    "def sortArrayByParity(A):\n",
    "    \n",
    "    result = []\n",
    "    \n",
    "    \n",
    "    for i in range(len(A)):\n",
    "        if A[i]%2 == 0:        \n",
    "            result.append(A[i])\n",
    "            \n",
    "    \n",
    "    for i in range(len(A)):\n",
    "        if A[i]%2 != 0:\n",
    "            result.append(A[i])\n",
    "            \n",
    "    \n",
    "    return result\n",
    "\n",
    "\n",
    "sortArrayByParity([3,1,2,4])"
   ]
  },
  {
   "cell_type": "code",
   "execution_count": 53,
   "metadata": {},
   "outputs": [
    {
     "data": {
      "text/plain": [
       "Counter({1: 1, 2: 1, 3: 2})"
      ]
     },
     "execution_count": 53,
     "metadata": {},
     "output_type": "execute_result"
    }
   ],
   "source": [
    "l = [1,2,3,3]\n",
    "x = Counter(l)\n",
    "x"
   ]
  },
  {
   "cell_type": "code",
   "execution_count": 54,
   "metadata": {},
   "outputs": [
    {
     "name": "stdout",
     "output_type": "stream",
     "text": [
      "3\n"
     ]
    }
   ],
   "source": [
    "for i in x:\n",
    "    if x[i] == len(l)//2:\n",
    "        print(i)"
   ]
  },
  {
   "cell_type": "code",
   "execution_count": 55,
   "metadata": {},
   "outputs": [
    {
     "data": {
      "text/plain": [
       "False"
      ]
     },
     "execution_count": 55,
     "metadata": {},
     "output_type": "execute_result"
    }
   ],
   "source": [
    "def judgeCircle(moves):\n",
    "    \n",
    "    x = y = 0\n",
    "    \n",
    "    for move in moves:\n",
    "        \n",
    "        if move == 'U': \n",
    "            y -= 1\n",
    "        \n",
    "        elif move == 'D': \n",
    "            y += 1\n",
    "        \n",
    "        elif move == 'L': \n",
    "            x -= 1\n",
    "        \n",
    "        elif move == 'R': \n",
    "            x += 1\n",
    "\n",
    "    return x == y == 0\n",
    "\n",
    "s = \"LLRRD\"\n",
    "judgeCircle(s)    "
   ]
  },
  {
   "cell_type": "code",
   "execution_count": 56,
   "metadata": {},
   "outputs": [
    {
     "data": {
      "text/plain": [
       "Counter({'L': 2, 'R': 2, 'D': 1})"
      ]
     },
     "execution_count": 56,
     "metadata": {},
     "output_type": "execute_result"
    }
   ],
   "source": [
    "s = \"LLRRD\"\n",
    "x = list(s)\n",
    "x_count = Counter(x)\n",
    "x_count"
   ]
  },
  {
   "cell_type": "code",
   "execution_count": 57,
   "metadata": {},
   "outputs": [
    {
     "data": {
      "text/plain": [
       "[[3, 7, 8], [9, 11, 13], [15, 16, 17]]"
      ]
     },
     "execution_count": 57,
     "metadata": {},
     "output_type": "execute_result"
    }
   ],
   "source": [
    "l = [[3,7,8],[9,11,13],[15,16,17]]\n",
    "l"
   ]
  },
  {
   "cell_type": "code",
   "execution_count": 58,
   "metadata": {},
   "outputs": [
    {
     "data": {
      "text/plain": [
       "[15]"
      ]
     },
     "execution_count": 58,
     "metadata": {},
     "output_type": "execute_result"
    }
   ],
   "source": [
    "def luckyNumbers(matrix):\n",
    "    \n",
    "    min_ = []\n",
    "    max_ = []\n",
    "    result = []\n",
    "    \n",
    "    for i in range(len(matrix)):\n",
    "        min_.append(min(matrix[i]))\n",
    "        \n",
    "    matrix = list(zip(*matrix))\n",
    "    \n",
    "    for i in range(len(matrix)):\n",
    "        max_.append(max(matrix[i]))\n",
    "        \n",
    "    for i in min_:\n",
    "        if i in max_:\n",
    "            result.append(i)\n",
    "        \n",
    "    \n",
    "    return result\n",
    "\n",
    "luckyNumbers(l)"
   ]
  },
  {
   "cell_type": "code",
   "execution_count": 59,
   "metadata": {},
   "outputs": [
    {
     "data": {
      "text/plain": [
       "[2, 4, 6, 9]"
      ]
     },
     "execution_count": 59,
     "metadata": {},
     "output_type": "execute_result"
    }
   ],
   "source": [
    "l = [9,6,4,2,3,5,7,0,1]\n",
    "\n",
    "l[0:4][::-1]"
   ]
  },
  {
   "cell_type": "code",
   "execution_count": 60,
   "metadata": {},
   "outputs": [
    {
     "data": {
      "text/plain": [
       "'b'"
      ]
     },
     "execution_count": 60,
     "metadata": {},
     "output_type": "execute_result"
    }
   ],
   "source": [
    "d = {1:'a', 2:'b', 3:'c'}\n",
    "d[2]"
   ]
  },
  {
   "cell_type": "code",
   "execution_count": 61,
   "metadata": {},
   "outputs": [
    {
     "data": {
      "text/plain": [
       "(5, [1, 0, 1, 0])"
      ]
     },
     "execution_count": 61,
     "metadata": {},
     "output_type": "execute_result"
    }
   ],
   "source": [
    "x = 10\n",
    "\n",
    "l = []\n",
    "\n",
    "result = 0\n",
    "\n",
    "while x:\n",
    "    l.append(x%2)\n",
    "    x = x//2\n",
    "\n",
    "l = l[::-1]\n",
    "\n",
    "for i in range(len(l)):\n",
    "    if l[i] == 1:\n",
    "        l[i] = 0\n",
    "    else:\n",
    "        l[i] = 1\n",
    "l = l[::-1]\n",
    "for i in range(len(l)):\n",
    "    if l[i] == 1:\n",
    "        result += (2**i)\n",
    "        \n",
    "result, l"
   ]
  },
  {
   "cell_type": "code",
   "execution_count": 62,
   "metadata": {},
   "outputs": [
    {
     "name": "stdout",
     "output_type": "stream",
     "text": [
      "False\n"
     ]
    }
   ],
   "source": [
    "n = 81\n",
    "while n>1:\n",
    "    if n%2 == 0:\n",
    "        n = n//2\n",
    "    else:\n",
    "        break\n",
    "        \n",
    "if n == 1:\n",
    "    print(True)\n",
    "    \n",
    "else:\n",
    "    print(False)\n",
    "    \n"
   ]
  },
  {
   "cell_type": "markdown",
   "metadata": {},
   "source": [
    "____\n",
    "\n",
    "Given a sorted array and a target value, return the index if the target is found. If not, return the index where it would be if it were inserted in order.\n",
    "\n",
    "You may assume no duplicates in the array.\n",
    "\n",
    "#### Example 1:\n",
    "\n",
    ">Input: [ 1, 3, 5, 6 ], 5\n",
    "\n",
    ">Output: 2"
   ]
  },
  {
   "cell_type": "code",
   "execution_count": 63,
   "metadata": {},
   "outputs": [
    {
     "name": "stdout",
     "output_type": "stream",
     "text": [
      "2\n"
     ]
    }
   ],
   "source": [
    "l = [1, 3, 5, 6]\n",
    "target = 5\n",
    "\n",
    "for i in l:\n",
    "    if target == i:\n",
    "        print(l.index(i))\n",
    "\n",
    "for i in range(len(l)):\n",
    "    if target not in l:\n",
    "        if target < l[i]:\n",
    "            l.insert(i ,target)\n",
    "            print(l)"
   ]
  },
  {
   "cell_type": "code",
   "execution_count": 64,
   "metadata": {},
   "outputs": [
    {
     "data": {
      "text/plain": [
       "[1, 2, 3, 4, 2]"
      ]
     },
     "execution_count": 64,
     "metadata": {},
     "output_type": "execute_result"
    }
   ],
   "source": [
    "x = [1,2,3,4]\n",
    "x.insert(4,2)\n",
    "x"
   ]
  },
  {
   "cell_type": "code",
   "execution_count": 65,
   "metadata": {},
   "outputs": [
    {
     "data": {
      "text/plain": [
       "2"
      ]
     },
     "execution_count": 65,
     "metadata": {},
     "output_type": "execute_result"
    }
   ],
   "source": [
    "s = \"pranav anil deo\"\n",
    "l = list(s.split())\n",
    "s.count(\"n\")"
   ]
  },
  {
   "cell_type": "code",
   "execution_count": 66,
   "metadata": {},
   "outputs": [
    {
     "name": "stdout",
     "output_type": "stream",
     "text": [
      "Factorail of  9  is :  362880\n"
     ]
    }
   ],
   "source": [
    "n = 9\n",
    "factorial = 1\n",
    "\n",
    "if int(n) >= 1:\n",
    "    \n",
    "    for i in range (1,int(n)+1):\n",
    "        factorial = factorial * i\n",
    "\n",
    "print(\"Factorail of \",n , \" is : \",factorial)"
   ]
  },
  {
   "cell_type": "code",
   "execution_count": 67,
   "metadata": {},
   "outputs": [
    {
     "data": {
      "text/plain": [
       "5040"
      ]
     },
     "execution_count": 67,
     "metadata": {},
     "output_type": "execute_result"
    }
   ],
   "source": [
    "n = 7\n",
    "fact = 1\n",
    "\n",
    "if n >= 1:\n",
    "    for i in range(1, n+1):\n",
    "        fact = fact*i\n",
    "fact"
   ]
  },
  {
   "cell_type": "code",
   "execution_count": 68,
   "metadata": {},
   "outputs": [
    {
     "data": {
      "text/plain": [
       "0"
      ]
     },
     "execution_count": 68,
     "metadata": {},
     "output_type": "execute_result"
    }
   ],
   "source": [
    "count = 0\n",
    "while fact%10 != 0:\n",
    "    fact = fact//10\n",
    "    count += 1\n",
    "    \n",
    "count"
   ]
  },
  {
   "cell_type": "code",
   "execution_count": 69,
   "metadata": {},
   "outputs": [
    {
     "data": {
      "text/plain": [
       "273"
      ]
     },
     "execution_count": 69,
     "metadata": {},
     "output_type": "execute_result"
    }
   ],
   "source": [
    "n = 824\n",
    "l = \"\"\n",
    "for i in range(0,n+1):\n",
    "    l += str(i)\n",
    "    \n",
    "l.count(\"1\")"
   ]
  },
  {
   "cell_type": "code",
   "execution_count": 70,
   "metadata": {},
   "outputs": [
    {
     "data": {
      "text/plain": [
       "[1, 2, 3, 4, 4, 3, 2, 1]"
      ]
     },
     "execution_count": 70,
     "metadata": {},
     "output_type": "execute_result"
    }
   ],
   "source": [
    "l = [1,2,3,4,4,3,2,1]\n",
    "l"
   ]
  },
  {
   "cell_type": "code",
   "execution_count": 71,
   "metadata": {},
   "outputs": [],
   "source": [
    "x = l[0:len(l)//2]\n",
    "y = l[len(l)//2:]"
   ]
  },
  {
   "cell_type": "code",
   "execution_count": 72,
   "metadata": {},
   "outputs": [
    {
     "data": {
      "text/plain": [
       "[1, 4, 2, 3, 3, 2, 4, 1]"
      ]
     },
     "execution_count": 72,
     "metadata": {},
     "output_type": "execute_result"
    }
   ],
   "source": [
    "result = []\n",
    "\n",
    "i = len(x)\n",
    "j = 0\n",
    "\n",
    "while i > 0:\n",
    "    result.append(x[j])\n",
    "    result.append(y[j])\n",
    "    \n",
    "    j = j+1\n",
    "    \n",
    "    i = i-1\n",
    "\n",
    "\n",
    "result    "
   ]
  },
  {
   "cell_type": "code",
   "execution_count": 73,
   "metadata": {},
   "outputs": [
    {
     "name": "stdout",
     "output_type": "stream",
     "text": [
      "123456789\n"
     ]
    }
   ],
   "source": [
    "l = []\n",
    "\n",
    "for i in range(1, 10):\n",
    "    l.append(i)\n",
    "    \n",
    "l = [str(i) for i in l]\n",
    "\n",
    "x = \"\".join(l)\n",
    "\n",
    "print(x)"
   ]
  },
  {
   "cell_type": "code",
   "execution_count": 74,
   "metadata": {},
   "outputs": [
    {
     "data": {
      "text/plain": [
       "12345678910"
      ]
     },
     "execution_count": 74,
     "metadata": {},
     "output_type": "execute_result"
    }
   ],
   "source": [
    "l = []\n",
    "n = 10\n",
    "for i in range(1, n+1):\n",
    "    l.append(str(i))\n",
    "\n",
    "result = \"\".join(l)\n",
    "int(result)"
   ]
  },
  {
   "cell_type": "code",
   "execution_count": 75,
   "metadata": {},
   "outputs": [],
   "source": [
    "l = [1, 2, 3]\n",
    "l[-1] = l[-1] + 1"
   ]
  },
  {
   "cell_type": "code",
   "execution_count": 76,
   "metadata": {},
   "outputs": [
    {
     "data": {
      "text/plain": [
       "[5, 6]"
      ]
     },
     "execution_count": 76,
     "metadata": {},
     "output_type": "execute_result"
    }
   ],
   "source": [
    "l = [4,3,2,7,8,2,3,1]\n",
    "m = np.arange(min(l), max(l)+1)\n",
    "r = []\n",
    "\n",
    "for i in m:\n",
    "    if i not in l:\n",
    "        r.append(i)\n",
    "        \n",
    "r"
   ]
  },
  {
   "cell_type": "code",
   "execution_count": 77,
   "metadata": {},
   "outputs": [],
   "source": [
    "l = sorted(l)"
   ]
  },
  {
   "cell_type": "code",
   "execution_count": 78,
   "metadata": {},
   "outputs": [
    {
     "data": {
      "text/plain": [
       "0"
      ]
     },
     "execution_count": 78,
     "metadata": {},
     "output_type": "execute_result"
    }
   ],
   "source": [
    "def heightChecker(heights):\n",
    "    count = 0\n",
    "    heights_ = sorted(heights)\n",
    "        \n",
    "    for i in range(len(heights)):\n",
    "        if heights[i] != heights_[i]:\n",
    "            count += 1\n",
    "                \n",
    "    return count\n",
    "\n",
    "heightChecker([1,2,3,4,5])"
   ]
  },
  {
   "cell_type": "code",
   "execution_count": 79,
   "metadata": {},
   "outputs": [
    {
     "data": {
      "text/plain": [
       "[1, 2, 3, 4, 6, 12]"
      ]
     },
     "execution_count": 79,
     "metadata": {},
     "output_type": "execute_result"
    }
   ],
   "source": [
    "n = 12\n",
    "l = []\n",
    "\n",
    "for i in range(1, n+1):\n",
    "    if n%i == 0:\n",
    "        l.append(i)\n",
    "        \n",
    "l"
   ]
  },
  {
   "cell_type": "code",
   "execution_count": 80,
   "metadata": {},
   "outputs": [
    {
     "data": {
      "text/plain": [
       "123445"
      ]
     },
     "execution_count": 80,
     "metadata": {},
     "output_type": "execute_result"
    }
   ],
   "source": [
    "l = [1,2,3,4,4,5]\n",
    "l = [str(i) for i in l]\n",
    "l = int(\"\".join(l))\n",
    "l"
   ]
  },
  {
   "cell_type": "code",
   "execution_count": 81,
   "metadata": {},
   "outputs": [
    {
     "data": {
      "text/plain": [
       "3"
      ]
     },
     "execution_count": 81,
     "metadata": {},
     "output_type": "execute_result"
    }
   ],
   "source": [
    "l = [3]\n",
    "l = [str(i) for i in l]\n",
    "l = int(\"\".join(l))\n",
    "l"
   ]
  },
  {
   "cell_type": "code",
   "execution_count": 82,
   "metadata": {},
   "outputs": [
    {
     "data": {
      "text/plain": [
       "5"
      ]
     },
     "execution_count": 82,
     "metadata": {},
     "output_type": "execute_result"
    }
   ],
   "source": [
    "l = [0, 1, 2, 3, 4, 6]\n",
    "l_ = [0, 1, 2, 3, 4, 5, 6]\n",
    "\n",
    "sum(l_) - sum(l)"
   ]
  },
  {
   "cell_type": "code",
   "execution_count": 83,
   "metadata": {},
   "outputs": [
    {
     "data": {
      "text/plain": [
       "[0, 1, 2, 3, 4, 5, 6]"
      ]
     },
     "execution_count": 83,
     "metadata": {},
     "output_type": "execute_result"
    }
   ],
   "source": [
    "x = list(np.arange(len(l)+1))\n",
    "x"
   ]
  },
  {
   "cell_type": "code",
   "execution_count": 84,
   "metadata": {},
   "outputs": [
    {
     "data": {
      "text/plain": [
       "5"
      ]
     },
     "execution_count": 84,
     "metadata": {},
     "output_type": "execute_result"
    }
   ],
   "source": [
    "def missingNumber(nums):\n",
    "    \n",
    "    x = sum(list(np.arange(len(nums)+1)))\n",
    "    y = sum(nums)\n",
    "    \n",
    "    return x-y\n",
    "\n",
    "missingNumber([0, 1, 2, 3, 4, 6])"
   ]
  },
  {
   "cell_type": "code",
   "execution_count": 85,
   "metadata": {},
   "outputs": [
    {
     "data": {
      "text/plain": [
       "31"
      ]
     },
     "execution_count": 85,
     "metadata": {},
     "output_type": "execute_result"
    }
   ],
   "source": [
    "s = 11111111111111111111111111111101\n",
    "x = 1\n",
    "\n",
    "str(s).count(str(x))"
   ]
  },
  {
   "cell_type": "code",
   "execution_count": 86,
   "metadata": {},
   "outputs": [
    {
     "name": "stdout",
     "output_type": "stream",
     "text": [
      "#          #          #          #          #          #          #          #          #          #          \n",
      "##         ##         ##         ##         ##         ##         ##         ##         ##         ##         \n",
      "###        ###        ###        ###        ###        ###        ###        ###        ###        ###        \n",
      "####       ####       ####       ####       ####       ####       ####       ####       ####       ####       \n",
      "#####      #####      #####      #####      #####      #####      #####      #####      #####      #####      \n",
      "######     ######     ######     ######     ######     ######     ######     ######     ######     ######     \n",
      "#######    #######    #######    #######    #######    #######    #######    #######    #######    #######    \n",
      "########   ########   ########   ########   ########   ########   ########   ########   ########   ########   \n",
      "#########  #########  #########  #########  #########  #########  #########  #########  #########  #########  \n",
      "########## ########## ########## ########## ########## ########## ########## ########## ########## ########## \n"
     ]
    }
   ],
   "source": [
    "x = \" \"\n",
    "n = 10\n",
    "j = n\n",
    "for i in range(1, n+1):\n",
    "    print((\"#\"*i + x*j)*n)\n",
    "    j -= 1"
   ]
  },
  {
   "cell_type": "code",
   "execution_count": 87,
   "metadata": {},
   "outputs": [
    {
     "data": {
      "text/plain": [
       "'blue is sky The'"
      ]
     },
     "execution_count": 87,
     "metadata": {},
     "output_type": "execute_result"
    }
   ],
   "source": [
    "s = \"The sky is blue\"\n",
    "\n",
    "\" \".join(s.strip().split()[::-1])"
   ]
  },
  {
   "cell_type": "code",
   "execution_count": 88,
   "metadata": {},
   "outputs": [
    {
     "name": "stdout",
     "output_type": "stream",
     "text": [
      "19:05:45\n"
     ]
    }
   ],
   "source": [
    "def timeConversion(s):\n",
    "    \n",
    "    l = s.split(\":\")\n",
    "\n",
    "    if l[0]==\"12\":\n",
    "        l[0]=\"00\"\n",
    "\n",
    "    if \"AM\" in s:\n",
    "        print(l[0]+\":\"+l[1]+\":\"+l[2][:2])\n",
    "    else:\n",
    "        print(str(int(l[0])+12)+\":\"+l[1]+\":\"+l[2][:2])\n",
    "        \n",
    "timeConversion(\"07:05:45PM\")"
   ]
  },
  {
   "cell_type": "code",
   "execution_count": 89,
   "metadata": {},
   "outputs": [
    {
     "name": "stdout",
     "output_type": "stream",
     "text": [
      "[73, 67, 38, 33]\n",
      "[75, 67, 40, 33]\n"
     ]
    }
   ],
   "source": [
    "l = list(np.random.randint(25, 69, 20))\n",
    "l = [73, 67, 38, 33]\n",
    "print(l)\n",
    "\n",
    "for i in range(len(l)):\n",
    "    if l[i] >= 38 and l[i] < 40:\n",
    "        l[i] = 40\n",
    "        \n",
    "    if l[i] > 40:\n",
    "        if l[i]%5 == 1:\n",
    "            if ((l[i]+4)-l[i])<3:\n",
    "                l[i] = l[i] + 4\n",
    "        \n",
    "        if l[i]%5 == 2:\n",
    "            if ((l[i]+3)-l[i])<3:            \n",
    "                l[i] = l[i] + 3\n",
    "\n",
    "        if l[i]%5 == 3:\n",
    "            if ((l[i]+2)-l[i])<3:            \n",
    "                l[i] = l[i] + 2\n",
    "\n",
    "        if l[i]%5 == 4:\n",
    "            if ((l[i]+1)-l[i])<3:            \n",
    "                l[i] = l[i] + 1\n",
    "            \n",
    "            \n",
    "print(l)"
   ]
  },
  {
   "cell_type": "code",
   "execution_count": 90,
   "metadata": {
    "scrolled": false
   },
   "outputs": [
    {
     "data": {
      "text/plain": [
       "'NO'"
      ]
     },
     "execution_count": 90,
     "metadata": {},
     "output_type": "execute_result"
    }
   ],
   "source": [
    "def kangaroo(x1, v1, x2, v2):\n",
    "    k1 = []\n",
    "    k1_dist = x1\n",
    "    k2 = []\n",
    "    k2_dist = x2\n",
    "    \n",
    "    for i in range(1,101):\n",
    "        k1_dist += x1 + v1\n",
    "        k1.append(k1_dist)\n",
    "    \n",
    "    for i in range(1,101):\n",
    "        k2_dist += x2 + v2\n",
    "        k2.append(k2_dist)\n",
    "        \n",
    "    for x in k1:\n",
    "        if x in k2:\n",
    "            return \"YES\"\n",
    "        else:\n",
    "            return \"NO\"\n",
    "\n",
    "kangaroo(0, 3, 4, 2)"
   ]
  },
  {
   "cell_type": "code",
   "execution_count": 91,
   "metadata": {},
   "outputs": [
    {
     "data": {
      "text/plain": [
       "[-57, 57]"
      ]
     },
     "execution_count": 91,
     "metadata": {},
     "output_type": "execute_result"
    }
   ],
   "source": [
    "l = [57, 57, -57, 57]\n",
    "l = sorted(list(set(l)))\n",
    "l"
   ]
  },
  {
   "cell_type": "code",
   "execution_count": 92,
   "metadata": {},
   "outputs": [
    {
     "data": {
      "text/plain": [
       "[1, 2]"
      ]
     },
     "execution_count": 92,
     "metadata": {},
     "output_type": "execute_result"
    }
   ],
   "source": [
    "from collections import Counter\n",
    "import heapq\n",
    "\n",
    "def topKFrequent(nums, k):\n",
    "    count_ = Counter(nums)\n",
    "    x = heapq.nlargest(k, count_, count_.get)\n",
    "    return x\n",
    "\n",
    "nums = [1,1,1,2,2,3]\n",
    "k = 2\n",
    "\n",
    "topKFrequent(nums, k)"
   ]
  },
  {
   "cell_type": "code",
   "execution_count": 93,
   "metadata": {},
   "outputs": [
    {
     "data": {
      "text/plain": [
       "['aaba', 'aababa', 'abc']"
      ]
     },
     "execution_count": 93,
     "metadata": {},
     "output_type": "execute_result"
    }
   ],
   "source": [
    "s = [\"aababa\", \"abc\", \"aaba\"]\n",
    "sorted(s)"
   ]
  },
  {
   "cell_type": "code",
   "execution_count": 94,
   "metadata": {},
   "outputs": [
    {
     "name": "stdout",
     "output_type": "stream",
     "text": [
      "     3.142\n"
     ]
    }
   ],
   "source": [
    "import math\n",
    "print(\"{0:10.3f}\".format(math.pi))"
   ]
  },
  {
   "cell_type": "code",
   "execution_count": 95,
   "metadata": {},
   "outputs": [
    {
     "data": {
      "text/plain": [
       "'10101'"
      ]
     },
     "execution_count": 95,
     "metadata": {},
     "output_type": "execute_result"
    }
   ],
   "source": [
    "b = \"1010\"\n",
    "c = \"1011\"\n",
    "\n",
    "b = \"0b\" + b\n",
    "c = \"0b\" + c\n",
    "\n",
    "b = int(b, 2)\n",
    "c = int(c, 2)\n",
    "\n",
    "str(bin(b + c)).replace(\"0b\",\"\")"
   ]
  },
  {
   "cell_type": "code",
   "execution_count": 96,
   "metadata": {},
   "outputs": [
    {
     "data": {
      "text/plain": [
       "'0b111'"
      ]
     },
     "execution_count": 96,
     "metadata": {},
     "output_type": "execute_result"
    }
   ],
   "source": [
    "\"0b\"+\"111\""
   ]
  },
  {
   "cell_type": "code",
   "execution_count": 97,
   "metadata": {},
   "outputs": [
    {
     "name": "stdout",
     "output_type": "stream",
     "text": [
      "1 2 3 4 5 6 7 8 9 10\n"
     ]
    },
    {
     "data": {
      "text/plain": [
       "5.5"
      ]
     },
     "execution_count": 97,
     "metadata": {},
     "output_type": "execute_result"
    }
   ],
   "source": [
    "def avg(nums):\n",
    "    \n",
    "    result = 0\n",
    "    \n",
    "    for i in range(len(nums)):\n",
    "        result += nums[i]\n",
    "        \n",
    "    return result/len(nums)\n",
    "\n",
    "\n",
    "nums = list(map(int, input().split()))\n",
    "\n",
    "\n",
    "avg(nums)"
   ]
  },
  {
   "cell_type": "code",
   "execution_count": 98,
   "metadata": {},
   "outputs": [
    {
     "name": "stdout",
     "output_type": "stream",
     "text": [
      "         *\n",
      "        ***\n",
      "       *****\n",
      "      *******\n",
      "     *********\n",
      "    ***********\n",
      "   *************\n",
      "  ***************\n",
      " *****************\n",
      "*******************\n",
      " *****************\n",
      "  ***************\n",
      "   *************\n",
      "    ***********\n",
      "     *********\n",
      "      *******\n",
      "       *****\n",
      "        ***\n",
      "         *\n"
     ]
    }
   ],
   "source": [
    "def Diamond(rows): \n",
    "    n = 0\n",
    "    \n",
    "    for i in range(1, rows + 1): \n",
    "\n",
    "        for j in range (1, (rows - i) + 1): \n",
    "            print(end = \" \") \n",
    "            \n",
    "        \n",
    "        while n != (2 * i - 1): \n",
    "            print(\"*\", end = \"\") \n",
    "            n = n + 1\n",
    "        n = 0\n",
    "\n",
    "        print()  \n",
    "  \n",
    "    k = 1\n",
    "    n = 1\n",
    "    \n",
    "    for i in range(1, rows): \n",
    "        \n",
    "        for j in range (1, k + 1): \n",
    "            print(end = \" \") \n",
    "        \n",
    "        k = k + 1\n",
    "        \n",
    "        while n <= (2 * (rows - i) - 1): \n",
    "            print(\"*\", end = \"\") \n",
    "            n = n + 1\n",
    "        n = 1\n",
    "\n",
    "        print()\n",
    "        \n",
    "Diamond(10)"
   ]
  },
  {
   "cell_type": "code",
   "execution_count": 99,
   "metadata": {},
   "outputs": [
    {
     "data": {
      "text/plain": [
       "[3, 5]"
      ]
     },
     "execution_count": 99,
     "metadata": {},
     "output_type": "execute_result"
    }
   ],
   "source": [
    "from collections import Counter\n",
    "import heapq\n",
    "\n",
    "def topKFrequent(nums):\n",
    "    count_ = Counter(nums)\n",
    "    x = heapq.nsmallest(2, count_, count_.get)\n",
    "    return x\n",
    "\n",
    "nums = [1,2,1,3,2,5]\n",
    "\n",
    "topKFrequent(nums)"
   ]
  },
  {
   "cell_type": "code",
   "execution_count": 100,
   "metadata": {},
   "outputs": [
    {
     "data": {
      "text/plain": [
       "2"
      ]
     },
     "execution_count": 100,
     "metadata": {},
     "output_type": "execute_result"
    }
   ],
   "source": [
    "def addDigits(num):\n",
    "    while(num >= 10):\n",
    "        temp = 0\n",
    "        while(num > 0):\n",
    "            temp += num % 10\n",
    "            num //= 10\n",
    "        num = temp\n",
    "    return num\n",
    "\n",
    "addDigits(389)"
   ]
  },
  {
   "cell_type": "code",
   "execution_count": 101,
   "metadata": {},
   "outputs": [
    {
     "data": {
      "text/plain": [
       "False"
      ]
     },
     "execution_count": 101,
     "metadata": {},
     "output_type": "execute_result"
    }
   ],
   "source": [
    "(\"HI\").istitle()"
   ]
  },
  {
   "cell_type": "code",
   "execution_count": 102,
   "metadata": {},
   "outputs": [
    {
     "data": {
      "text/plain": [
       "False"
      ]
     },
     "execution_count": 102,
     "metadata": {},
     "output_type": "execute_result"
    }
   ],
   "source": [
    "s = \"aba abaa\"\n",
    "s[::-1] == s"
   ]
  },
  {
   "cell_type": "code",
   "execution_count": 105,
   "metadata": {},
   "outputs": [
    {
     "name": "stdout",
     "output_type": "stream",
     "text": [
      "3\n",
      "20000\n",
      "10000\n",
      "60000\n",
      "999916007\n"
     ]
    }
   ],
   "source": [
    "N = int(input())\n",
    "L = []\n",
    "\n",
    "for i in range(0, N):\n",
    "    x = (input())\n",
    "    L.append(int(x))\n",
    "\n",
    "product = 1\n",
    "\n",
    "for i in L:\n",
    "    product *= i\n",
    "\n",
    "print(product%((10**9)+7))"
   ]
  },
  {
   "cell_type": "code",
   "execution_count": 104,
   "metadata": {},
   "outputs": [
    {
     "name": "stdout",
     "output_type": "stream",
     "text": [
      "8\n",
      "40320\n"
     ]
    }
   ],
   "source": [
    "def factorial(N):\n",
    "\n",
    "    if N < 0:\n",
    "        return\n",
    "        \n",
    "    elif N == 1:\n",
    "        return 1\n",
    "\n",
    "    else:\n",
    "        return N*factorial(N-1)\n",
    "\n",
    "\n",
    "# Main Function\n",
    "\n",
    "N = int(input())\n",
    "print(factorial(N))"
   ]
  }
 ],
 "metadata": {
  "kernelspec": {
   "display_name": "Python 3.7 (tensorflow)",
   "language": "python",
   "name": "tensorflow"
  },
  "language_info": {
   "codemirror_mode": {
    "name": "ipython",
    "version": 3
   },
   "file_extension": ".py",
   "mimetype": "text/x-python",
   "name": "python",
   "nbconvert_exporter": "python",
   "pygments_lexer": "ipython3",
   "version": "3.7.4"
  }
 },
 "nbformat": 4,
 "nbformat_minor": 2
}
